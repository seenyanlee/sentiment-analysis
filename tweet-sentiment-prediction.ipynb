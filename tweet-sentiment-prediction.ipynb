{
 "cells": [
  {
   "cell_type": "code",
   "execution_count": 1,
   "metadata": {},
   "outputs": [
    {
     "name": "stdout",
     "output_type": "stream",
     "text": [
      "Train length: 21802\n",
      "Test length: 6099\n"
     ]
    }
   ],
   "source": [
    "# Load Train and Test datasets\n",
    "\n",
    "import pandas as pd\n",
    "\n",
    "train_data = pd.read_csv(\"Train.csv\", sep=',')\n",
    "test_data = pd.read_csv(\"Test.csv\", sep=',')\n",
    "\n",
    "X_train_raw = [x[0] for x in train_data[['text']].values]\n",
    "Y_train_ori = [x[0] for x in train_data[['sentiment']].values]\n",
    "print(\"Train length:\",len(X_train_raw))\n",
    "\n",
    "X_test_raw = [x[0] for x in test_data[['text']].values]\n",
    "print(\"Test length:\",len(X_test_raw))"
   ]
  },
  {
   "cell_type": "code",
   "execution_count": 2,
   "metadata": {},
   "outputs": [
    {
     "data": {
      "text/plain": [
       "neutral     0.580635\n",
       "positive    0.248968\n",
       "negative    0.170397\n",
       "Name: sentiment, dtype: float64"
      ]
     },
     "execution_count": 2,
     "metadata": {},
     "output_type": "execute_result"
    }
   ],
   "source": [
    "# Checking the distribution of the sentiments in training data\n",
    "pd.DataFrame(Y_train_ori, columns=['sentiment'])['sentiment'].value_counts(normalize=True)"
   ]
  },
  {
   "cell_type": "code",
   "execution_count": 3,
   "metadata": {},
   "outputs": [
    {
     "name": "stdout",
     "output_type": "stream",
     "text": [
      "Baseline accuracy:  0.5806348041464086\n"
     ]
    }
   ],
   "source": [
    "# Obtain baseline accuracy by implementing Zero-R classifier\n",
    "\n",
    "from sklearn.dummy import DummyClassifier\n",
    "zero_r = DummyClassifier(strategy='most_frequent')\n",
    "zero_r.fit(X_train_raw, Y_train_ori)\n",
    "baseline = zero_r.score(X_train_raw, Y_train_ori)\n",
    "print('Baseline accuracy: ', baseline)"
   ]
  },
  {
   "cell_type": "code",
   "execution_count": 4,
   "metadata": {},
   "outputs": [],
   "source": [
    "from sklearn.model_selection import train_test_split\n",
    "from sklearn.feature_extraction.text import TfidfVectorizer"
   ]
  },
  {
   "cell_type": "markdown",
   "metadata": {},
   "source": [
    "### H0: Training and Validation on preprocessed tweets using unigrams as features "
   ]
  },
  {
   "cell_type": "code",
   "execution_count": 5,
   "metadata": {},
   "outputs": [],
   "source": [
    "import re\n",
    "import nltk\n",
    "from nltk.corpus import stopwords\n",
    "from nltk.stem import WordNetLemmatizer\n",
    "\n",
    "# nltk.download('stopwords')\n",
    "# nltk.download('punkt')\n",
    "# nltk.download('wordnet')"
   ]
  },
  {
   "cell_type": "code",
   "execution_count": 6,
   "metadata": {},
   "outputs": [],
   "source": [
    "# Pre-processing of tweets\n",
    "\n",
    "X_train_preprocessed = [re.sub(r'http\\S+', '', x) for x in X_train_raw] # remove URLs\n",
    "X_train_preprocessed = [re.sub(r'^@[\\w]{4,15}', '', x) for x in X_train_preprocessed] # remove usernames (Twitter usernames are of length 4-15)\n",
    "X_train_preprocessed = [re.sub('[^A-Za-z0-9 ]+','', x) for x in X_train_preprocessed] # remove non-alphanumeric characters\n",
    "\n",
    "# Remove stopwords from each tweet\n",
    "stop = stopwords.words('english')\n",
    "X_train_preprocessed = [' '.join([word for word in x.split() if word not in stop]) for x in X_train_preprocessed] \n",
    "\n",
    "# Perform lemmatization\n",
    "lemmatizer = WordNetLemmatizer()\n",
    "X_train_preprocessed = [' '.join([lemmatizer.lemmatize(w) for w in nltk.word_tokenize(x)]) for x in X_train_preprocessed] "
   ]
  },
  {
   "cell_type": "code",
   "execution_count": 7,
   "metadata": {},
   "outputs": [],
   "source": [
    "# Split the preprocessed training dataset into training and validation sets\n",
    "\n",
    "X_train, X_val, Y_train, Y_val = train_test_split(X_train_preprocessed, Y_train_ori, test_size=0.2, random_state=0)"
   ]
  },
  {
   "cell_type": "code",
   "execution_count": 8,
   "metadata": {},
   "outputs": [
    {
     "name": "stdout",
     "output_type": "stream",
     "text": [
      "Train feature space size (using TFIDF): (17441, 29737)\n"
     ]
    }
   ],
   "source": [
    "tfidf_vectorizer = TfidfVectorizer()\n",
    "\n",
    "# Build the feature set (vocabulary) and vectorise the Train set using TFIDF\n",
    "X_train_tfidf = tfidf_vectorizer.fit_transform(X_train)\n",
    "\n",
    "# Use the feature set (vocabulary) from Train to vectorise the Validation set\n",
    "X_val_tfidf = tfidf_vectorizer.transform(X_val)\n",
    "\n",
    "print(\"Train feature space size (using TFIDF):\", X_train_tfidf.shape)"
   ]
  },
  {
   "cell_type": "code",
   "execution_count": 9,
   "metadata": {},
   "outputs": [],
   "source": [
    "from sklearn.svm import LinearSVC\n",
    "from sklearn.naive_bayes import MultinomialNB\n",
    "from sklearn.neighbors import KNeighborsClassifier\n",
    "from sklearn.metrics import accuracy_score, f1_score\n",
    "from sklearn.model_selection import cross_val_score\n",
    "from numpy import mean, arange\n",
    "import matplotlib.pyplot as plt"
   ]
  },
  {
   "cell_type": "code",
   "execution_count": 10,
   "metadata": {},
   "outputs": [],
   "source": [
    "# Add labels to bar graph\n",
    "def add_value_label(x_list, y_list):\n",
    "    for i in range(1, len(x_list)+1):\n",
    "        plt.text(x_list[i-1], y_list[i-1], round(y_list[i-1], 4), ha='center')"
   ]
  },
  {
   "cell_type": "code",
   "execution_count": 11,
   "metadata": {
    "scrolled": true
   },
   "outputs": [
    {
     "data": {
      "image/png": "[encoded data removed]",
      "text/plain": [
       "<Figure size 432x288 with 1 Axes>"
      ]
     },
     "metadata": {
      "needs_background": "light"
     },
     "output_type": "display_data"
    },
    {
     "name": "stdout",
     "output_type": "stream",
     "text": [
      "[0.6546663609263931, 0.6601696858518689, 0.6597110754414125, 0.6610869066727815, 0.6599403806466407, 0.659023159825728, 0.6578766337995873, 0.6532905296950241, 0.651685393258427]\n"
     ]
    }
   ],
   "source": [
    "# Linear Support Vector Classifier\n",
    "\n",
    "# Tune values of C to get the value leading to higher accuracy\n",
    "C = [0.1,0.2,0.3,0.4,0.5,0.6,0.7,0.8,0.9]\n",
    "acc = []\n",
    "for c in C:\n",
    "    clf = LinearSVC(random_state=0, C=c)\n",
    "    clf.fit(X_train_tfidf, Y_train)\n",
    "    acc.append(accuracy_score(Y_val, clf.predict(X_val_tfidf)))\n",
    "    \n",
    "plt.figure()\n",
    "plt.bar(C, acc, width=0.1, edgecolor='k')\n",
    "plt.xlabel('C values')\n",
    "plt.ylim(0.65,0.67)\n",
    "plt.ylabel('Accuracy')\n",
    "plt.title('Accuracy of Linear SVC w.r.t. different C values')\n",
    "add_value_label(C, acc)\n",
    "plt.show()\n",
    "\n",
    "print(acc)"
   ]
  },
  {
   "cell_type": "code",
   "execution_count": 12,
   "metadata": {},
   "outputs": [
    {
     "name": "stdout",
     "output_type": "stream",
     "text": [
      "Accuracy on validation set:  0.6610869066727815\n",
      "Average cross validation score:  0.6574747640703451\n"
     ]
    }
   ],
   "source": [
    "# Select C=0.4 and perform cross validation\n",
    "clf = LinearSVC(random_state=0, C=0.4)\n",
    "clf.fit(X_train_tfidf, Y_train)\n",
    "\n",
    "h0_svc_acc = clf.score(X_val_tfidf, Y_val)\n",
    "h0_svc_cv = mean(cross_val_score(clf, X_train_tfidf, Y_train, cv=10))\n",
    "print('Accuracy on validation set: ', h0_svc_acc)\n",
    "print('Average cross validation score: ', h0_svc_cv)"
   ]
  },
  {
   "cell_type": "code",
   "execution_count": 13,
   "metadata": {},
   "outputs": [
    {
     "name": "stdout",
     "output_type": "stream",
     "text": [
      "Accuracy on validation set:  0.5943590919513873\n",
      "Average cross validation score:  0.599908421177151\n"
     ]
    }
   ],
   "source": [
    "# Multinomial Naive bayes Classifier\n",
    "\n",
    "mnb = MultinomialNB()\n",
    "mnb.fit(X_train_tfidf, Y_train)\n",
    "\n",
    "h0_mnb_acc = mnb.score(X_val_tfidf, Y_val)\n",
    "h0_mnb_cv = mean(cross_val_score(mnb, X_train_tfidf, Y_train, cv=10))\n",
    "print('Accuracy on validation set: ', h0_mnb_acc)\n",
    "print('Average cross validation score: ', h0_mnb_cv)"
   ]
  },
  {
   "cell_type": "code",
   "execution_count": 14,
   "metadata": {},
   "outputs": [
    {
     "name": "stdout",
     "output_type": "stream",
     "text": [
      "Accuracy score using KNN classifier:  0.54918596652144\n",
      "Accuracy score using KNN classifier:  0.5856454941527173\n",
      "Accuracy score using KNN classifier:  0.5973400596193533\n",
      "Accuracy score using KNN classifier:  0.6046778261866544\n"
     ]
    }
   ],
   "source": [
    "# K Nearest Neighbour\n",
    "# Tuning hyperparameter k\n",
    "K = [3,5,7,9]\n",
    "for k in K:\n",
    "    knn = KNeighborsClassifier(n_neighbors=k, weights='uniform')\n",
    "    knn.fit(X_train_tfidf, Y_train)\n",
    "\n",
    "    print(\"Accuracy score using KNN classifier: \", knn.score(X_val_tfidf, Y_val))"
   ]
  },
  {
   "cell_type": "code",
   "execution_count": 15,
   "metadata": {},
   "outputs": [
    {
     "name": "stdout",
     "output_type": "stream",
     "text": [
      "Accuracy on validation set:  0.6046778261866544\n",
      "Average cross validation score:  0.5993351581188717\n"
     ]
    }
   ],
   "source": [
    "# Choose k=9 \n",
    "knn = KNeighborsClassifier(n_neighbors=9, weights='uniform')\n",
    "knn.fit(X_train_tfidf, Y_train)\n",
    "h0_knn_acc = knn.score(X_val_tfidf, Y_val)\n",
    "h0_knn_cv = mean(cross_val_score(knn, X_train_tfidf, Y_train, cv=10))\n",
    "print('Accuracy on validation set: ', h0_knn_acc)\n",
    "print('Average cross validation score: ', h0_knn_cv)"
   ]
  },
  {
   "cell_type": "markdown",
   "metadata": {},
   "source": [
    "### H1: Training and Validation on unprocessed tweets using unigrams as features"
   ]
  },
  {
   "cell_type": "code",
   "execution_count": 16,
   "metadata": {},
   "outputs": [
    {
     "name": "stdout",
     "output_type": "stream",
     "text": [
      "Train feature space size: (17441, 37682)\n"
     ]
    }
   ],
   "source": [
    "# Split the unprocessed training dataset into training and validation sets\n",
    "X_train_up, X_val_up, Y_train_up, Y_val_up = train_test_split(X_train_raw, Y_train_ori, test_size=0.2, random_state=0)\n",
    "\n",
    "# Vectorize the training and validation sets\n",
    "tfidf_vectorizer = TfidfVectorizer()\n",
    "\n",
    "X_train_tfidf_up = tfidf_vectorizer.fit_transform(X_train_up)\n",
    "X_val_tfidf_up = tfidf_vectorizer.transform(X_val_up)\n",
    "\n",
    "print(\"Train feature space size:\", X_train_tfidf_up.shape)"
   ]
  },
  {
   "cell_type": "code",
   "execution_count": 17,
   "metadata": {},
   "outputs": [
    {
     "data": {
      "image/png": "[encoded data removed]",
      "text/plain": [
       "<Figure size 432x288 with 1 Axes>"
      ]
     },
     "metadata": {
      "needs_background": "light"
     },
     "output_type": "display_data"
    },
    {
     "name": "stdout",
     "output_type": "stream",
     "text": [
      "[0.6670488420087136, 0.6675074524191699, 0.6663609263930291, 0.6675074524191699, 0.6659023159825728]\n"
     ]
    }
   ],
   "source": [
    "# Linear Support Vector Classifier\n",
    "\n",
    "# Tune values of C to get the value leading to higher accuracy \n",
    "C = [0.2,0.25,0.3,0.35,0.4]\n",
    "acc = []\n",
    "for c in C:\n",
    "    clf = LinearSVC(random_state=0, C=c)\n",
    "    clf.fit(X_train_tfidf_up, Y_train_up)\n",
    "    acc.append(accuracy_score(Y_val_up, clf.predict(X_val_tfidf_up)))\n",
    "    \n",
    "plt.figure()\n",
    "plt.bar(C, acc, edgecolor='k', width=0.05)\n",
    "plt.xlabel('C values')\n",
    "plt.ylabel('Accuracy')\n",
    "plt.ylim(0.65,0.67)\n",
    "plt.title('Accuracy of Linear SVC w.r.t. different C values')\n",
    "add_value_label(C, acc)\n",
    "plt.show()\n",
    "\n",
    "print(acc)"
   ]
  },
  {
   "cell_type": "code",
   "execution_count": 18,
   "metadata": {},
   "outputs": [
    {
     "name": "stdout",
     "output_type": "stream",
     "text": [
      "Accuracy on validation set:  0.6675074524191699\n",
      "Average cross validation score:  0.6591948161194501\n"
     ]
    }
   ],
   "source": [
    "# Select C=0.35 and perform cross validation (the wider value of C to allow more misclassifications)\n",
    "clf = LinearSVC(random_state=0, C=0.35)\n",
    "clf.fit(X_train_tfidf_up, Y_train_up)\n",
    "\n",
    "h1_svc_acc = accuracy_score(Y_val_up, clf.predict(X_val_tfidf_up))\n",
    "h1_svc_cv = mean(cross_val_score(clf, X_train_tfidf_up, Y_train_up, cv=10))\n",
    "print('Accuracy on validation set: ', h1_svc_acc)\n",
    "print('Average cross validation score: ', h1_svc_cv)"
   ]
  },
  {
   "cell_type": "code",
   "execution_count": 19,
   "metadata": {},
   "outputs": [
    {
     "name": "stdout",
     "output_type": "stream",
     "text": [
      "Accuracy on validation set:  0.580830084842926\n",
      "Average cross validation score:  0.5909066533477038\n"
     ]
    }
   ],
   "source": [
    "# Multinomial Naive Bayes Classifier\n",
    "\n",
    "mnb = MultinomialNB()\n",
    "mnb.fit(X_train_tfidf_up, Y_train_up)\n",
    "\n",
    "h1_mnb_acc = mnb.score(X_val_tfidf_up, Y_val_up)\n",
    "h1_mnb_cv = mean(cross_val_score(mnb, X_train_tfidf_up, Y_train_up, cv=10))\n",
    "print('Accuracy on validation set: ', h1_mnb_acc)\n",
    "print('Average cross validation score: ', h1_mnb_cv)"
   ]
  },
  {
   "cell_type": "code",
   "execution_count": 20,
   "metadata": {},
   "outputs": [
    {
     "name": "stdout",
     "output_type": "stream",
     "text": [
      "Accuracy score using KNN classifier:  0.5553772070626003\n",
      "Accuracy score using KNN classifier:  0.5872506305893144\n",
      "Accuracy score using KNN classifier:  0.5991745012611787\n",
      "Accuracy score using KNN classifier:  0.6037606053657418\n"
     ]
    }
   ],
   "source": [
    "# K-Nearest Neighbour Classifier - hyperparameter tuning\n",
    "K = [3,5,7,9]\n",
    "for k in K:\n",
    "    knn = KNeighborsClassifier(n_neighbors=k, weights='uniform')\n",
    "    knn.fit(X_train_tfidf_up, Y_train_up)\n",
    "\n",
    "    print(\"Accuracy score using KNN classifier: \", knn.score(X_val_tfidf_up, Y_val_up))"
   ]
  },
  {
   "cell_type": "code",
   "execution_count": 21,
   "metadata": {},
   "outputs": [
    {
     "name": "stdout",
     "output_type": "stream",
     "text": [
      "Accuracy on validation set:  0.6037606053657418\n",
      "Average cross validation score:  0.6012275242501511\n"
     ]
    }
   ],
   "source": [
    "# Choose k=9\n",
    "knn = KNeighborsClassifier(n_neighbors=9, weights='uniform')\n",
    "knn.fit(X_train_tfidf_up, Y_train_up)\n",
    "\n",
    "h1_knn_acc = knn.score(X_val_tfidf_up, Y_val_up)\n",
    "h1_knn_cv = mean(cross_val_score(knn, X_train_tfidf_up, Y_train_up, cv=10))\n",
    "print('Accuracy on validation set: ', h1_knn_acc)\n",
    "print('Average cross validation score: ', h1_knn_cv)"
   ]
  },
  {
   "cell_type": "markdown",
   "metadata": {},
   "source": [
    "### H2: Training and Validation on unprocessed tweets using unigrams and bigrams as features"
   ]
  },
  {
   "cell_type": "code",
   "execution_count": 22,
   "metadata": {},
   "outputs": [
    {
     "name": "stdout",
     "output_type": "stream",
     "text": [
      "Train feature space size: (17441, 207482)\n"
     ]
    }
   ],
   "source": [
    "X_train_ngram, X_val_ngram, Y_train_ngram, Y_val_ngram = train_test_split(X_train_raw, Y_train_ori, test_size=0.2, random_state=0)\n",
    "\n",
    "vectorizer = TfidfVectorizer(use_idf=True,ngram_range=(1,2))\n",
    "X_train_ngram = vectorizer.fit_transform(X_train_ngram)\n",
    "X_val_ngram = vectorizer.transform(X_val_ngram)\n",
    "\n",
    "print(\"Train feature space size:\", X_train_ngram.shape)"
   ]
  },
  {
   "cell_type": "code",
   "execution_count": 23,
   "metadata": {},
   "outputs": [
    {
     "data": {
      "image/png": "[encoded data removed]",
      "text/plain": [
       "<Figure size 432x288 with 1 Axes>"
      ]
     },
     "metadata": {
      "needs_background": "light"
     },
     "output_type": "display_data"
    },
    {
     "name": "stdout",
     "output_type": "stream",
     "text": [
      "[0.664755789956432, 0.6656730107773446, 0.6649850951616602, 0.6636092639302912, 0.6629213483146067]\n"
     ]
    }
   ],
   "source": [
    "# Linear Support Vector Classifier\n",
    "\n",
    "C = [0.4,0.45,0.5,0.55,0.6]\n",
    "acc = []\n",
    "for c in C:\n",
    "    clf = LinearSVC(random_state=0, C=c)\n",
    "    clf.fit(X_train_ngram, Y_train_ngram)\n",
    "    acc.append(accuracy_score(Y_val_ngram, clf.predict(X_val_ngram)))\n",
    "    \n",
    "plt.figure()\n",
    "plt.bar(C, acc, edgecolor='k', width=0.05)\n",
    "plt.xlabel('C values')\n",
    "plt.ylabel('Accuracy')\n",
    "plt.ylim(0.65,0.67)\n",
    "plt.title('Accuracy of Linear SVC w.r.t. different C values')\n",
    "add_value_label(C, acc)\n",
    "plt.show()\n",
    "print(acc)"
   ]
  },
  {
   "cell_type": "code",
   "execution_count": 24,
   "metadata": {},
   "outputs": [
    {
     "name": "stdout",
     "output_type": "stream",
     "text": [
      "Accuracy on validation set:  0.6656730107773446\n",
      "Average cross validation score:  0.6559270261034147\n"
     ]
    }
   ],
   "source": [
    "# Select C=0.45 and perform cross validation\n",
    "clf = LinearSVC(random_state=0, C=0.45)\n",
    "clf.fit(X_train_ngram, Y_train_ngram)\n",
    "\n",
    "h2_svc_acc = clf.score(X_val_ngram, Y_val_ngram)\n",
    "h2_svc_cv = mean(cross_val_score(clf, X_train_ngram, Y_train_ngram, cv=10))\n",
    "print('Accuracy on validation set: ', h2_svc_acc)\n",
    "print('Average cross validation score: ', h2_svc_cv)"
   ]
  },
  {
   "cell_type": "code",
   "execution_count": 25,
   "metadata": {},
   "outputs": [
    {
     "name": "stdout",
     "output_type": "stream",
     "text": [
      "Accuracy on validation set:  0.5792249484063289\n",
      "Average cross validation score:  0.5889570463447333\n"
     ]
    }
   ],
   "source": [
    "# Multinomial Naive Bayes Classifier\n",
    "\n",
    "mnb = MultinomialNB()\n",
    "mnb.fit(X_train_ngram, Y_train_ngram)\n",
    "\n",
    "h2_mnb_acc = mnb.score(X_val_ngram, Y_val_ngram)\n",
    "h2_mnb_cv = mean(cross_val_score(mnb, X_train_ngram, Y_train_ngram, cv=10))\n",
    "print('Accuracy on validation set: ', h2_mnb_acc)\n",
    "print('Average cross validation score: ', h2_mnb_cv)"
   ]
  },
  {
   "cell_type": "code",
   "execution_count": 26,
   "metadata": {},
   "outputs": [
    {
     "name": "stdout",
     "output_type": "stream",
     "text": [
      "Accuracy score using KNN classifier:  0.547810135290071\n",
      "Accuracy score using KNN classifier:  0.5849575785370328\n",
      "Accuracy score using KNN classifier:  0.5900022930520523\n",
      "Accuracy score using KNN classifier:  0.5952763127723\n"
     ]
    }
   ],
   "source": [
    "# K-Nearest Neighbour Classifier - hyperparameter tuning\n",
    "K = [3,5,7,9]\n",
    "for k in K:\n",
    "    knn = KNeighborsClassifier(n_neighbors=k, weights='uniform')\n",
    "    knn.fit(X_train_ngram, Y_train_ngram)\n",
    "\n",
    "    print(\"Accuracy score using KNN classifier: \", knn.score(X_val_ngram, Y_val_ngram))"
   ]
  },
  {
   "cell_type": "code",
   "execution_count": 27,
   "metadata": {},
   "outputs": [
    {
     "name": "stdout",
     "output_type": "stream",
     "text": [
      "Accuracy on validation set:  0.5952763127723\n",
      "Average cross validation score:  0.6060427564995663\n"
     ]
    }
   ],
   "source": [
    "# Choose k=9\n",
    "knn = KNeighborsClassifier(n_neighbors=9, weights='uniform')\n",
    "knn.fit(X_train_ngram, Y_train_ngram)\n",
    "\n",
    "h2_knn_acc = knn.score(X_val_ngram, Y_val_ngram)\n",
    "h2_knn_cv = mean(cross_val_score(knn, X_train_ngram, Y_train_ngram, cv=10))\n",
    "print('Accuracy on validation set: ', h2_knn_acc)\n",
    "print('Average cross validation score: ', h2_knn_cv)"
   ]
  },
  {
   "cell_type": "markdown",
   "metadata": {},
   "source": [
    "### H3: Perform feature selection by Chi-square on unprocessed tweets"
   ]
  },
  {
   "cell_type": "code",
   "execution_count": 28,
   "metadata": {},
   "outputs": [
    {
     "name": "stdout",
     "output_type": "stream",
     "text": [
      "Train feature space size: (17441, 37682) \n",
      "\n",
      "Accuracy on validation when k = 100 : 0.6454941527172667\n",
      "Average cross validation score when k = 100 : 0.6503646394679425\n",
      "F1 score when k = 100 : 0.6012777851894628\n",
      "\n",
      "\n",
      "Accuracy on validation when k = 1000 : 0.6670488420087136\n",
      "Average cross validation score when k = 1000 : 0.6758215806629688\n",
      "F1 score when k = 1000 : 0.6401725715289673\n",
      "\n",
      "\n",
      "Accuracy on validation when k = 10000 : 0.6677367576243981\n",
      "Average cross validation score when k = 10000 : 0.6801226308456665\n",
      "F1 score when k = 10000 : 0.6438820379794444\n",
      "\n",
      "\n",
      "Accuracy on validation when k = 15000 : 0.6672781472139417\n",
      "Average cross validation score when k = 15000 : 0.6773131621145607\n",
      "F1 score when k = 15000 : 0.6444139823768098\n",
      "\n",
      "\n"
     ]
    }
   ],
   "source": [
    "from sklearn.feature_selection import SelectKBest, chi2\n",
    "\n",
    "print(\"Train feature space size:\", X_train_tfidf_up.shape, \"\\n\")\n",
    "\n",
    "clf = LinearSVC(random_state=0, C=0.35)\n",
    "x2_acc = []\n",
    "x2_cv = []\n",
    "x2_f1 = []\n",
    "\n",
    "for k in [100,1000,10000,15000]:\n",
    "    x2 = SelectKBest(chi2, k=k)\n",
    "\n",
    "    X_train_x2 = x2.fit_transform(X_train_tfidf_up, Y_train_up)\n",
    "    X_val_x2 = x2.transform(X_val_tfidf_up)\n",
    "    clf.fit(X_train_x2, Y_train_up)\n",
    "    y_val_predict = clf.predict(X_val_x2)\n",
    "    \n",
    "    acc = clf.score(X_val_x2, Y_val_up)\n",
    "    cvs = mean(cross_val_score(clf, X_train_x2, Y_train_up, cv=10))\n",
    "    f1 = f1_score(Y_val_up, y_val_predict, average='weighted')\n",
    "    \n",
    "    x2_acc.append(acc)\n",
    "    x2_cv.append(cvs)\n",
    "    x2_f1.append(f1)\n",
    "    \n",
    "    print('Accuracy on validation when k =', k, ':', acc)\n",
    "    print('Average cross validation score when k =', k, ':', cvs)\n",
    "    print('F1 score when k =', k, ':', f1)\n",
    "    print(\"\\n\")"
   ]
  },
  {
   "cell_type": "code",
   "execution_count": 29,
   "metadata": {},
   "outputs": [
    {
     "data": {
      "image/png": "[encoded data removed]",
      "text/plain": [
       "<Figure size 576x432 with 1 Axes>"
      ]
     },
     "metadata": {
      "needs_background": "light"
     },
     "output_type": "display_data"
    }
   ],
   "source": [
    "# Visualise feature selection scores\n",
    "\n",
    "X = ['k=100', 'k=1000', 'k=10000', 'k=15000']\n",
    "X_axis = arange(len(X))\n",
    "plt.figure(figsize=(8,6))\n",
    "plt.bar(X_axis - 0.3, x2_acc, 0.3, label = 'Accuracy')\n",
    "plt.bar(X_axis, x2_cv, 0.3, label = 'Average CV score')\n",
    "plt.bar(X_axis + 0.3, x2_f1, 0.3, label = 'F1 score')\n",
    "plt.xticks(X_axis, X)\n",
    "plt.xlabel(\"k\")\n",
    "plt.ylabel(\"Score\")\n",
    "plt.ylim(0.5,0.7)\n",
    "plt.title(\"Comparison of evaluation scores with different k values (H3)\")\n",
    "plt.legend()\n",
    "add_value_label(X_axis-0.3, x2_acc)\n",
    "add_value_label(X_axis, x2_cv)\n",
    "add_value_label(X_axis+0.3, x2_f1)\n",
    "plt.savefig('figure4.png')\n",
    "plt.show()"
   ]
  },
  {
   "cell_type": "code",
   "execution_count": 30,
   "metadata": {},
   "outputs": [],
   "source": [
    "h3_svc_acc = x2_acc[2]\n",
    "h3_svc_cv = x2_cv[2]"
   ]
  },
  {
   "cell_type": "markdown",
   "metadata": {},
   "source": [
    "### Prediction on Test set"
   ]
  },
  {
   "cell_type": "code",
   "execution_count": 31,
   "metadata": {},
   "outputs": [],
   "source": [
    "# Create bar graphs to compare evaluation scores for each hypothesis\n",
    "scorename = ['Baseline', 'SVC accuracy', 'SVC CV', 'MNB accuracy', 'MNB CV', 'KNN accuracy', 'KNN CV']\n",
    "\n",
    "scores0 = [baseline, h0_svc_acc, h0_svc_cv, h0_mnb_acc, h0_mnb_cv, h0_knn_acc, h0_knn_cv]\n",
    "scores1 = [baseline, h1_svc_acc, h1_svc_cv, h1_mnb_acc, h1_mnb_cv, h1_knn_acc, h1_knn_cv]\n",
    "scores2 = [baseline, h2_svc_acc, h2_svc_cv, h2_mnb_acc, h2_mnb_cv, h2_knn_acc, h2_knn_cv]\n",
    "#scores3 = [baseline, h3_svc_acc, h3_svc_cv, h3_mnb_acc, h3_mnb_cv, h3_knn_acc, h3_knn_cv]\n",
    "#scores4 = [baseline, h4_svc_acc, h4_svc_cv, h4_mnb_acc, h4_mnb_cv, h4_knn_acc]"
   ]
  },
  {
   "cell_type": "code",
   "execution_count": 32,
   "metadata": {},
   "outputs": [
    {
     "data": {
      "image/png": "[encoded data removed]",
      "text/plain": [
       "<Figure size 576x432 with 1 Axes>"
      ]
     },
     "metadata": {
      "needs_background": "light"
     },
     "output_type": "display_data"
    }
   ],
   "source": [
    "# H0 bar graph\n",
    "\n",
    "plt.figure(figsize=(8,6))\n",
    "plt.bar(range(7), scores0, edgecolor='k', width=0.5, color='maroon', tick_label=scorename)\n",
    "plt.xlabel('Evaluation metrics')\n",
    "plt.ylabel('Evaluation scores')\n",
    "plt.ylim(0.57,0.67)\n",
    "plt.title('Evaluation scores comparison for H0')\n",
    "add_value_label(range(7), scores0)\n",
    "plt.grid(True)\n",
    "#plt.savefig('figure1.png')\n",
    "plt.show()"
   ]
  },
  {
   "cell_type": "code",
   "execution_count": 33,
   "metadata": {},
   "outputs": [
    {
     "data": {
      "image/png": "[encoded data removed]",
      "text/plain": [
       "<Figure size 576x432 with 1 Axes>"
      ]
     },
     "metadata": {
      "needs_background": "light"
     },
     "output_type": "display_data"
    }
   ],
   "source": [
    "# H1 bar graph\n",
    "\n",
    "plt.figure(figsize=(8,6))\n",
    "plt.bar(range(7), scores1, edgecolor='k', width=0.5, color='maroon', tick_label=scorename)\n",
    "plt.xlabel('Evaluation metrics')\n",
    "plt.ylabel('Evaluation scores')\n",
    "plt.ylim(0.57,0.67)\n",
    "plt.title('Evaluation scores comparison for H1')\n",
    "add_value_label(range(7), scores1)\n",
    "plt.grid(True)\n",
    "#plt.savefig('figure2.png')\n",
    "plt.show()"
   ]
  },
  {
   "cell_type": "code",
   "execution_count": 34,
   "metadata": {},
   "outputs": [
    {
     "data": {
      "image/png": "[encoded data removed]",
      "text/plain": [
       "<Figure size 576x432 with 1 Axes>"
      ]
     },
     "metadata": {
      "needs_background": "light"
     },
     "output_type": "display_data"
    }
   ],
   "source": [
    "# H2 bar graph\n",
    "\n",
    "plt.figure(figsize=(8,6))\n",
    "plt.bar(range(7), scores2, edgecolor='k', width=0.5, color='maroon', tick_label=scorename)\n",
    "plt.xlabel('Evaluation metrics')\n",
    "plt.ylabel('Evaluation scores')\n",
    "plt.ylim(0.57,0.67)\n",
    "plt.title('Evaluation scores comparison for H2')\n",
    "add_value_label(range(7), scores2)\n",
    "plt.grid(True)\n",
    "#plt.savefig('figure3.png')\n",
    "plt.show()"
   ]
  },
  {
   "cell_type": "code",
   "execution_count": 35,
   "metadata": {},
   "outputs": [
    {
     "data": {
      "image/png": "[encoded data removed]",
      "text/plain": [
       "<Figure size 576x432 with 1 Axes>"
      ]
     },
     "metadata": {
      "needs_background": "light"
     },
     "output_type": "display_data"
    }
   ],
   "source": [
    "hypothesis = ['H0', 'H1', 'H2', 'H3']\n",
    "average = [h0_svc_acc+h0_svc_cv, h1_svc_acc+h1_svc_cv, h2_svc_acc+h2_svc_cv, h3_svc_acc+h3_svc_cv]\n",
    "average = [a/2 for a in average]\n",
    "\n",
    "plt.figure(figsize=(8,6))\n",
    "plt.bar(range(4), average, edgecolor='k', width=0.5, color='maroon', tick_label=hypothesis)\n",
    "plt.xlabel('Hypothesis')\n",
    "plt.ylabel('Average evaluation score')\n",
    "plt.ylim(0.65,0.68)\n",
    "plt.title('Average evaluation scores comparison for SVC across all hypotheses')\n",
    "add_value_label(range(4), average)\n",
    "plt.grid(True)\n",
    "plt.savefig('figure5.png')\n",
    "plt.show()"
   ]
  },
  {
   "cell_type": "code",
   "execution_count": 37,
   "metadata": {},
   "outputs": [
    {
     "name": "stdout",
     "output_type": "stream",
     "text": [
      "neutral     0.691097\n",
      "positive    0.193146\n",
      "negative    0.115757\n",
      "Name: sentiment, dtype: float64\n"
     ]
    }
   ],
   "source": [
    "# Decision: use raw test dataset vectorised with TfidfVectorizer and select 10000 most correlated features using Chi-square \n",
    "# and predict sentiment using Linear SVC with C=0.35\n",
    "\n",
    "tfidf_vectorizer = TfidfVectorizer()\n",
    "X_train_tfidf_up = tfidf_vectorizer.fit_transform(X_train_up)\n",
    "X_test_tfidf = tfidf_vectorizer.transform(X_test_raw)\n",
    "\n",
    "clf = LinearSVC(random_state=0, C=0.35)\n",
    "x2 = SelectKBest(chi2, k=10000)\n",
    "X_train_x2 = x2.fit_transform(X_train_tfidf_up, Y_train_up)\n",
    "X_test_x2 = x2.transform(X_test_tfidf)\n",
    "clf.fit(X_train_x2, Y_train_up)\n",
    "\n",
    "prediction = pd.Series(clf.predict(X_test_x2))\n",
    "output = pd.DataFrame({'id': test_data['id'], 'sentiment': prediction})\n",
    "print(output['sentiment'].value_counts(normalize=True))\n",
    "output.to_csv('test_final.csv', index=False, header=True)"
   ]
  }
 ],
 "metadata": {
  "kernelspec": {
   "display_name": "Python 3",
   "language": "python",
   "name": "python3"
  },
  "language_info": {
   "codemirror_mode": {
    "name": "ipython",
    "version": 3
   },
   "file_extension": ".py",
   "mimetype": "text/x-python",
   "name": "python",
   "nbconvert_exporter": "python",
   "pygments_lexer": "ipython3",
   "version": "3.7.6"
  }
 },
 "nbformat": 4,
 "nbformat_minor": 4
}
